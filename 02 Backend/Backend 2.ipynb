{
 "cells": [
  {
   "cell_type": "code",
   "execution_count": 22,
   "metadata": {},
   "outputs": [],
   "source": [
    "from threading import Thread, Lock\n",
    "\n",
    "import json\n",
    "\n",
    "import requests\n",
    "\n",
    "import win32api\n",
    "import win32con"
   ]
  },
  {
   "cell_type": "code",
   "execution_count": 23,
   "metadata": {},
   "outputs": [
    {
     "data": {
      "text/plain": [
       "True"
      ]
     },
     "execution_count": 23,
     "metadata": {},
     "output_type": "execute_result"
    }
   ],
   "source": [
    "from dotenv import load_dotenv\n",
    "\n",
    "load_dotenv()"
   ]
  },
  {
   "cell_type": "code",
   "execution_count": 24,
   "metadata": {},
   "outputs": [],
   "source": [
    "from flask import Flask, request, jsonify\n",
    "\n",
    "from PIL import Image, ImageGrab\n",
    "\n",
    "import cv2 as cv"
   ]
  },
  {
   "cell_type": "code",
   "execution_count": 25,
   "metadata": {},
   "outputs": [],
   "source": [
    "from Perplexity import Perplexity"
   ]
  },
  {
   "cell_type": "code",
   "execution_count": 26,
   "metadata": {},
   "outputs": [],
   "source": [
    "JSON_SKILLS_FILEPATH = r\"./Skills.json\""
   ]
  },
  {
   "cell_type": "code",
   "execution_count": 27,
   "metadata": {},
   "outputs": [],
   "source": [
    "def load_json(filepath):\n",
    "\n",
    "    with open(filepath, \"rt\") as file:\n",
    "        return json.load(file)"
   ]
  },
  {
   "cell_type": "code",
   "execution_count": 28,
   "metadata": {},
   "outputs": [],
   "source": [
    "def flatten_skills(skills_dict):\n",
    "    flattened_skills = []\n",
    "    for primary in skills_dict.keys():\n",
    "        for secondary in skills_dict[primary].keys():\n",
    "            for item in skills_dict[primary][secondary]:\n",
    "                flattened_skills.append(f\"{primary}::{secondary}::{item}\")\n",
    "\n",
    "    return flattened_skills"
   ]
  },
  {
   "cell_type": "code",
   "execution_count": 29,
   "metadata": {},
   "outputs": [],
   "source": [
    "skills = load_json(\"./Skills.json\")\n",
    "\n",
    "user_skills = load_json(\"./UserSkills.json\")\n",
    "flattened_user_skills = flatten_skills(user_skills)"
   ]
  },
  {
   "cell_type": "code",
   "execution_count": 30,
   "metadata": {},
   "outputs": [],
   "source": [
    "def retreive_and_process_screen_image(windows_target_coordinate = win32api.GetCursorPos()):\n",
    "\n",
    "    # Take a screenshot of the user's screen.\n",
    "    screen_image = ImageGrab.grab()\n",
    "    screen_w, screen_h = screen_image.size\n",
    "\n",
    "    # Convert the Windows coordinates to coordinates on the captured image using simple proportions.\n",
    "    # TODO: Determine how Windows determines screen size.\n",
    "    # On a 1080 x 1920 Screen\n",
    "    # Width : win32api.GetSystemMetrics(0) = 1536\n",
    "    # Height : win32api.GetSystemMetrics(1) = 864\n",
    "    translate_windows_xy_coordinates = lambda win_x, win_y : (int(win_x * 1.0 * screen_w / win32api.GetSystemMetrics(0)), int(win_y * 1.0 * screen_h / win32api.GetSystemMetrics(1)))\n",
    "\n",
    "    image_target_coordinate = translate_windows_xy_coordinates(*windows_target_coordinate)\n",
    "\n",
    "    rectangle_options = {\n",
    "        \"color\" : (255, 0, 0),\n",
    "        \"thickness\" : 10\n",
    "    }\n",
    "    screen_image = cv.rectangle(screen_image, image_target_coordinate, **rectangle_options)\n",
    "\n",
    "\n",
    "    # Return the raw screenshot along with the cropped screenshot around their mouse.\n",
    "    return screen_image, image_target_coordinate"
   ]
  },
  {
   "cell_type": "code",
   "execution_count": 31,
   "metadata": {},
   "outputs": [],
   "source": [
    "perplex = Perplexity()"
   ]
  },
  {
   "cell_type": "code",
   "execution_count": 32,
   "metadata": {},
   "outputs": [],
   "source": [
    "prompts = {\n",
    "    \"Greetings\" : \"\"\"Hello! What would you like help doing on your computer?\"\"\",\n",
    "    \n",
    "    \"Determine Goal\" : \"\"\"\n",
    "        A beginner-level computer user needs help preforming a task on their computer. If you can confidently determine what the user wants to do using the triple quotation mark enclosed query (\\\"\\\"\\\"), which may provide clarification questions and answers along with the provided screenshot of the user's screen content, then respond \"✅✅✅\" followed by a clear and concise summary of what they want to do in a way that can be understood by beginner-level computer users. If it is not clear what the user needs help with, or if a follow-up question would be beneficial for clarity, respond \"???\" followed by the clarification statements or clarification question(s) you would like to ask the user. Clarification questions should be short, direct, and accessible to beginner-level users. Clarification questions should also be kept to a minimum to make the assistance process as seamless as possible. Always ask clarification questions, however, if the user's intention is ambiguous.\n",
    "        Make sure to never begin your response without a \"✅✅✅\" or \"???\". Thank you!\n",
    "        \"\"\",\n",
    "    \n",
    "    \"Instruction Generation\" : \"\"\"Create step-by-step instructions to complete the following task enclosed in triple quotation marks: \\\"\\\"\\\"{Task}\\\"\\\"\\\" {Issues} Your instructions should not contain line breaks and take the following format:\n",
    "        Instruction1 Information;Instruction 2 Information;Information for Instruction 3;...\n",
    "        You should not use semicolons for instructions and should instead only use them to separate different instructions.\n",
    "        Your instructions should be clear, understandable by a beginner level computer user, and avoid launching specialized programs or the command line as much as possible. Your instructions must contain explanations of why we are doing the things we are doing. You should enumerate every click you can. The current computer user is familiar with the following set of skills:\n",
    "        {Skills} Try to cater your instructions to give users more experience with the skills they have experience with. Use the provided skill codes as appropriate in your response. To the greatest extent possible, avoid using more than one or two skills that the user does not have experience with before. After you have finished writing your instructions, end your response with the following code: {BEGIN_SUMMARY}\n",
    "        After this code, write a short, clear and concise summary of what they want to do in a way that can be understood by beginner-level computer users. Your summary of your instructions should include the starting point and the ending point as well as crucial parts or shifts of frame. An example summary for instructions on bookmarking a website might talk about one or more of the following: So web browsers navigate to/download webpages from other people's servers in the world. A bookmark, like bookmarks used in your books help you remember websites you'd like to refer back to often. Make sure to bookmark websites you trust; you can also organize your bookmarks.\n",
    "        Make sure not to be too verbose in your summary\"\"\",\n",
    "    \n",
    "    # Alright, does this sound good and are you ready to get started?\n",
    "    \"Confirmation\" : \"\"\"If the user is satisfied with the current set of instructions, respond with ✅, otherwise respond with xx, followed by a summary of their disagreement of issue. User Response: {issue}\"\"\",\n",
    "\n",
    "    \"Action Verification\" : \"\"\"The provided image has marked the [user's most recent click location/the user's current mouse position] with a large blue dot.\n",
    "        The user is currently following instruction {CurrentInstructionNumber} from the following list of instructions: {InstructionList} Identify the appropriate response code given the following criteria:\n",
    "        If the user successfully completed the current instruction, respond with ✅. If the user hasn't done anything yet or are confused, don't use any special symbols and explain what they can do to get back on track.\n",
    "        If the user made a mistake, or the next instructions need to be revised, respond with xx followed immediately by a description of the error.\n",
    "    \"\"\",\n",
    "\n",
    "    \"Congratulations\" : \"\"\"Summarize what the user just finished after following this list of steps:\n",
    "        {instructionList}\n",
    "        Use the following format for your response:\n",
    "        Congratulations, you just finished [Very Brief Summary of Completed Steps]! Do you have any questions about how that worked, or have something you would like to work on next?\n",
    "    \"\"\",\n",
    "\n",
    "    \"Clarification Question\" : \"\"\"The user is currently trying to [most recent query summary] following the instruction [Instruction Number] out of the following list of instructions. They have the following question:\"\"\"\n",
    "\n",
    "}"
   ]
  },
  {
   "cell_type": "code",
   "execution_count": 33,
   "metadata": {},
   "outputs": [],
   "source": [
    "should_exit_program = False\n",
    "\n",
    "proceed_to_next_state_mutex = False\n",
    "\n",
    "most_recent_user_input = None\n",
    "most_recent_model_output = None\n"
   ]
  },
  {
   "cell_type": "code",
   "execution_count": 44,
   "metadata": {},
   "outputs": [],
   "source": [
    "def state_handler():\n",
    "    global should_exit_program\n",
    "\n",
    "    global proceed_to_next_state_mutex\n",
    "\n",
    "    global most_recent_user_input\n",
    "    global most_recent_model_output\n",
    "\n",
    "\n",
    "    next_state_to_handle = \"Determine Goal\"\n",
    "\n",
    "    current_goal = None\n",
    "    clarification_questions = []\n",
    "    clarification_answers = []\n",
    "\n",
    "    issues = \"\"\n",
    "\n",
    "    current_instruction_string = None\n",
    "    current_instruction_list = None\n",
    "    current_instruction_number = None\n",
    "    current_instruction_summary = None\n",
    "    \n",
    "    while not should_exit_program:\n",
    "\n",
    "        with proceed_to_next_state_mutex:\n",
    "\n",
    "            if next_state_to_handle == \"Determine Goal\":\n",
    "\n",
    "                assert most_recent_user_input != None\n",
    "\n",
    "                current_prompt = prompts[\"Determine Goal\"] + f'\\n\"\"\"{most_recent_user_input}\"\"\"'\n",
    "                # If handling clarification questions, save their response now.\n",
    "                if len(clarification_questions) != len(clarification_answers):\n",
    "                    clarification_answers.append(most_recent_user_input)\n",
    "\n",
    "                most_recent_user_input = None\n",
    "                \n",
    "                screen_image = ImageGrab.grab()\n",
    "                screen_image.save(\"./CurrentImage.png\")\n",
    "                raw_model_output = perplex.infer(current_prompt, \"./CurrentImage.png\")\n",
    "\n",
    "                # Check if the model was able to determine intention\n",
    "                if \"✅✅✅\" in raw_model_output:\n",
    "\n",
    "                    joined_clarifications = \"\".join([f\"Clarification Question {i + 1}: {clarification}\\nClarification Question {i + 1}, Response: {response}\\n\" for i, (clarification, response) in enumerate(zip(clarification_questions, clarification_answers))])\n",
    "\n",
    "                    processed_model_output = raw_model_output.strip(\"✅✅✅\").strip() + joined_clarifications\n",
    "\n",
    "                    most_recent_model_output = processed_model_output\n",
    "                    current_goal = processed_model_output\n",
    "\n",
    "                    next_state_to_handle = \"Instruction Generation\"\n",
    "\n",
    "                elif \"???\" in raw_model_output:\n",
    "                    processed_model_output = raw_model_output.strip(\"???\").strip()\n",
    "                    most_recent_model_output = processed_model_output\n",
    "\n",
    "                    clarification_questions.append(processed_model_output)\n",
    "            \n",
    "            elif next_state_to_handle == \"Instruction Generation\":\n",
    "                formatted_prompt = prompts[\"Instruction Generation\"].format(current_goal, issues, \"\\n\".join(flattened_user_skills))\n",
    "\n",
    "                model_response = perplex.infer(formatted_prompt)\n",
    "\n",
    "                split_response = model_response.split(\"BEGIN_SUMMARY\")\n",
    "\n",
    "                assert len(split_response) == 2\n",
    "\n",
    "                current_instruction_string, current_instruction_summary = split_response\n",
    "\n",
    "                current_instruction_list = current_instruction_string.split(\";\")\n",
    "                current_instruction_number = 0\n",
    "\n",
    "                most_recent_model_output = f\"Alright, so here is what we'll be doing: {current_instruction_summary}\\nHow does that sound? Do you have any questions or changes you'd like to make?\"\n",
    "\n",
    "                next_state_to_handle = \"Confirmation\"\n",
    "\n",
    "            elif next_state_to_handle == \"Confirmation\":\n",
    "\n",
    "                formatted_prompt = prompts[\"Confirmation\"].format(most_recent_user_input)\n",
    "\n",
    "                model_response = perplex.infer(formatted_prompt)\n",
    "\n",
    "                if model_response.contains(\"✅\"):\n",
    "                    most_recent_model_output = \"Ok! Let's get started!\"\n",
    "                    next_state_to_handle = \"Action Verification\"\n",
    "\n",
    "                else:\n",
    "                    most_recent_model_output = \"Ok! Let me think for a minute...\"\n",
    "                    issues += f\"\\n {model_response.strip('xx')}\"\n",
    "                \n",
    "                    next_state_to_handle = \"Instruction Generation\"\n",
    "\n",
    "            elif next_state_to_handle == \"Action Verification\":\n",
    "                screen_image = retreive_and_process_screen_image()\n",
    "                screen_image.save(\"./CurrentImage.png\")\n",
    "\n",
    "                formatted_prompt = prompts[\"Action Verification\"].format(current_instruction_list[current_instruction_number], current_instruction_string)\n",
    "                \n",
    "                model_response = perplex.infer(formatted_prompt)\n",
    "\n",
    "                if model_response.contains(\"✅\"):\n",
    "                    most_recent_model_output = perplex.infer(\"Craft a response like 'Nice!', or 'Great!', or 'You're on the right track!'\")\n",
    "                    \n",
    "                    if current_instruction_number < len(current_instruction_list) - 1:\n",
    "\n",
    "                        next_state_to_handle = \"Action Verification\"\n",
    "                        current_instruction_number += 1\n",
    "                    \n",
    "                    else:\n",
    "                        next_state_to_handle = \"Congratulations\"\n",
    "\n",
    "                elif model_response.contains('xx'):\n",
    "                    most_recent_model_output = \"Ok! I think we might need to try something different. Let me think for a minute.\"\n",
    "                    issues += f\"\\n {model_response.strip('xx')}\"\n",
    "                \n",
    "                    next_state_to_handle = \"Instruction Generation\"\n",
    "\n",
    "                else:\n",
    "                    most_recent_model_output = model_response\n",
    "            else:\n",
    "                formatted_prompt = prompts[\"Congratulations\"].format(current_instruction_string)\n",
    "\n",
    "                next_state_to_handle = \"Determine Goal\"\n",
    "                \n",
    "                \n",
    "                \n",
    "\n",
    "\n",
    "        # At some point, initialized issues\n",
    "\n",
    "\n",
    "\n",
    "\n",
    "\n",
    "            \n"
   ]
  },
  {
   "cell_type": "code",
   "execution_count": 45,
   "metadata": {},
   "outputs": [],
   "source": [
    "state_handler_thread = Thread(target=state_handler)\n",
    "\n",
    "thread_started = False"
   ]
  },
  {
   "cell_type": "code",
   "execution_count": 46,
   "metadata": {},
   "outputs": [],
   "source": [
    "app = Flask(__name__)\n",
    "\n",
    "@app.route(\"/\")\n",
    "def home():\n",
    "    return \"Hello!\"\n",
    "\n",
    "@app.route(\"/search\", methods=[\"POST\"])\n",
    "def api_endpoint():\n",
    "    \n",
    "    global most_recent_user_input\n",
    "    global most_recent_model_output\n",
    "    global proceed_to_next_state_mutex\n",
    "\n",
    "    if not thread_started:\n",
    "        proceed_to_next_state_mutex.acquire()\n",
    "        state_handler_thread.start()\n",
    "        thread_started = True\n",
    "\n",
    "    most_recent_user_input = request.json.get(\"query\")\n",
    "\n",
    "\n",
    "    proceed_to_next_state_mutex.release()\n",
    "\n",
    "    proceed_to_next_state_mutex.acquire()\n",
    "\n",
    "    return most_recent_model_output\n",
    "\n",
    "\n",
    "    # If in Determine Goal/goal determined make sure to check with the user to see if that is really what they want"
   ]
  },
  {
   "cell_type": "code",
   "execution_count": 47,
   "metadata": {},
   "outputs": [
    {
     "name": "stdout",
     "output_type": "stream",
     "text": [
      " * Serving Flask app '__main__'\n",
      " * Debug mode: off\n"
     ]
    },
    {
     "name": "stderr",
     "output_type": "stream",
     "text": [
      "WARNING: This is a development server. Do not use it in a production deployment. Use a production WSGI server instead.\n",
      " * Running on http://127.0.0.1:5000\n",
      "Press CTRL+C to quit\n"
     ]
    }
   ],
   "source": [
    "app.run(host=\"0.0.0.0\")"
   ]
  }
 ],
 "metadata": {
  "kernelspec": {
   "display_name": "Python 3",
   "language": "python",
   "name": "python3"
  },
  "language_info": {
   "codemirror_mode": {
    "name": "ipython",
    "version": 3
   },
   "file_extension": ".py",
   "mimetype": "text/x-python",
   "name": "python",
   "nbconvert_exporter": "python",
   "pygments_lexer": "ipython3",
   "version": "3.11.10"
  }
 },
 "nbformat": 4,
 "nbformat_minor": 2
}
