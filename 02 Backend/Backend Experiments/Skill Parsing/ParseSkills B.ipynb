{
 "cells": [
  {
   "cell_type": "code",
   "execution_count": 1,
   "metadata": {},
   "outputs": [],
   "source": [
    "import json"
   ]
  },
  {
   "cell_type": "code",
   "execution_count": 3,
   "metadata": {},
   "outputs": [],
   "source": [
    "with open(\"Skills.json\", \"rt\") as file:\n",
    "    loaded_json = json.load(file)"
   ]
  },
  {
   "cell_type": "code",
   "execution_count": 7,
   "metadata": {},
   "outputs": [
    {
     "name": "stdout",
     "output_type": "stream",
     "text": [
      "GeneralSkills::KeyboardShortcuts::Using Control + C To Copy\n",
      "GeneralSkills::KeyboardShortcuts::Using Control + V To Paste\n",
      "GeneralSkills::KeyboardShortcuts::Using Control + X To Cut\n",
      "GeneralSkills::KeyboardShortcuts::Using Control + Z To Undo\n",
      "GeneralSkills::KeyboardShortcuts::Using Control + A To Select All\n",
      "GeneralSkills::KeyboardShortcuts::Using Control + N To Open New Window\n",
      "GeneralSkills::KeyboardShortcuts::Using Control + T To Open New Tab\n",
      "GeneralSkills::KeyboardShortcuts::Using Alt + Tab To Switch Between Open Windows\n",
      "GeneralSkills::KeyboardShortcuts::Using Windows + D To Show Desktop\n",
      "GeneralSkills::KeyboardShortcuts::Using Windows + E To Open File Explorer\n",
      "GeneralSkills::KeyboardShortcuts::Using Windows + L To Lock Computer\n",
      "GeneralSkills::MouseOperations::Clicking And Double Clicking\n",
      "GeneralSkills::MouseOperations::Right Clicking For Context Menus\n",
      "GeneralSkills::MouseOperations::Dragging And Dropping Files\n",
      "GeneralSkills::MouseOperations::Using Scroll Wheel\n",
      "GeneralSkills::InternetNavigation::Browsing The Internet\n",
      "GeneralSkills::InternetNavigation::Understanding URLs And Hyperlinks\n",
      "GeneralSkills::InternetNavigation::Basic Search Engine Use\n",
      "GeneralSkills::InternetNavigation::Understanding Browser Tabs And Windows\n",
      "GeneralSkills::InternetNavigation::Downloading Files Safely\n",
      "GeneralSkills::InternetNavigation::Using Bookmarks And Favorites\n",
      "GeneralSkills::EmailManagement::Sending And Receiving Emails\n",
      "GeneralSkills::EmailManagement::Attaching Files To Emails\n",
      "GeneralSkills::EmailManagement::Managing Email Folders\n",
      "GeneralSkills::EmailManagement::Creating And Managing Email Contacts\n",
      "GeneralSkills::EmailManagement::Understanding Email Etiquette\n",
      "GeneralSkills::EmailManagement::Using Email Filters And Rules\n",
      "GeneralSkills::FileManagement::Creating And Managing Folders\n",
      "GeneralSkills::FileManagement::Saving And Organizing Files\n",
      "GeneralSkills::FileManagement::Understanding File Types And Extensions\n",
      "GeneralSkills::FileManagement::Renaming And Deleting Files\n",
      "GeneralSkills::FileManagement::Using Recycle Bin\n",
      "GeneralSkills::FileManagement::Basic File Compression\n",
      "GeneralSkills::SecurityBasics::Understanding Password Security\n",
      "GeneralSkills::SecurityBasics::Using Two Factor Authentication\n",
      "GeneralSkills::SecurityBasics::Recognizing Phishing Attempts\n",
      "GeneralSkills::SecurityBasics::Keeping Software Up To Date\n",
      "GeneralSkills::SecurityBasics::Using Antivirus Software\n",
      "GeneralSkills::SecurityBasics::Basic Firewall Configuration\n",
      "OSSkills::WindowsSkills::NavigatingToWindowsSettings\n",
      "OSSkills::WindowsSkills::UnderstandingStartMenu\n",
      "OSSkills::WindowsSkills::ManagingWindowsUpdates\n",
      "OSSkills::WindowsSkills::UsingTaskManager\n",
      "OSSkills::WindowsSkills::CustomizingDesktop\n",
      "OSSkills::WindowsSkills::ManagingUserAccounts\n",
      "OSSkills::WindowsSkills::UsingWindowsBackup\n",
      "OSSkills::WindowsSkills::CreatingMultipleDesktops\n",
      "OSSkills::WindowsSkills::UsingFileExplorerTabs\n",
      "OSSkills::WindowsSkills::CustomizingWidgets\n",
      "OSSkills::macOSSkills::NavigatingToSystemPreferences\n",
      "OSSkills::macOSSkills::UnderstandingDock\n",
      "OSSkills::macOSSkills::ManagingmacOSUpdates\n",
      "OSSkills::macOSSkills::UsingActivityMonitor\n",
      "OSSkills::macOSSkills::CustomizingDesktop\n",
      "OSSkills::macOSSkills::ManagingUserAccounts\n",
      "OSSkills::macOSSkills::UsingTimeMachineForBackups\n",
      "OSSkills::macOSSkills::CreatingMultipleDesktops\n",
      "ApplicationSkills::MicrosoftOfficeSuite::UsingWordForWordProcessing\n",
      "ApplicationSkills::MicrosoftOfficeSuite::CreatingSpreadsheetsWithExcel\n",
      "ApplicationSkills::MicrosoftOfficeSuite::MakingPresentationsWithPowerPoint\n",
      "ApplicationSkills::MicrosoftOfficeSuite::UsingOutlookForEmailManagement\n",
      "ApplicationSkills::MicrosoftOfficeSuite::UnderstandingBasicFormattingOptions\n",
      "ApplicationSkills::MicrosoftOfficeSuite::AdvancedExcelFunctions\n",
      "ApplicationSkills::MicrosoftOfficeSuite::PowerPointAnimationsAndTransitions\n",
      "ApplicationSkills::GoogleWorkspace::UsingGoogleDocsForWordProcessing\n",
      "ApplicationSkills::GoogleWorkspace::CreatingSpreadsheetsWithGoogleSheets\n",
      "ApplicationSkills::GoogleWorkspace::MakingPresentationsWithGoogleSlides\n",
      "ApplicationSkills::GoogleWorkspace::UsingGmailForEmailManagement\n",
      "ApplicationSkills::GoogleWorkspace::UnderstandingBasicFormattingOptions\n",
      "ApplicationSkills::GoogleWorkspace::AdvancedGoogleSheetsFunctions\n",
      "ApplicationSkills::AdobeCreativeCloud::UsingPhotoshopForImageEditing\n",
      "ApplicationSkills::AdobeCreativeCloud::CreatingVectorGraphicsWithIllustrator\n",
      "ApplicationSkills::AdobeCreativeCloud::MakingPresentationsWithInDesign\n",
      "WebApplicationSkills::BrowserUsage::AddingBookmarksToChrome\n",
      "WebApplicationSkills::BrowserUsage::TurningOffShieldsOnBraveBrowser\n",
      "WebApplicationSkills::BrowserUsage::ManagingBrowserExtensions\n",
      "WebApplicationSkills::BrowserUsage::UnderstandingPrivateBrowsing\n",
      "WebApplicationSkills::BrowserUsage::ClearingBrowserCache\n",
      "WebApplicationSkills::BrowserUsage::UsingBrowserDeveloperTools\n",
      "WebApplicationSkills::GoogleDrive::UsingGoogleDriveForCloudStorage\n",
      "WebApplicationSkills::GoogleDrive::CreatingSharedFoldersAndFiles\n",
      "WebApplicationSkills::Trello::UsingTrelloForProjectManagement\n",
      "WebApplicationSkills::Trello::CreatingBoardsInTrello\n",
      "WebApplicationSkills::Slack::UsingSlackForTeamCollaboration\n",
      "WebApplicationSkills::Slack::CreatingChannelsInSlack\n",
      "WebApplicationSkills::Zoom::UsingZoomForVideoConferencing\n",
      "WebApplicationSkills::Zoom::SettingUpMeetingsInZoom\n",
      "WebApplicationSkills::Dropbox::UsingDropboxForCloudStorage\n",
      "WebApplicationSkills::Dropbox::CreatingSharedFoldersAndFiles\n",
      "WebApplicationSkills::Notion::UsingNotionForNoteTaking\n",
      "WebApplicationSkills::Notion::CreatingNotesInNotion\n",
      "WebApplicationSkills::Evernote::UsingEvernoteForNoteTaking\n",
      "WebApplicationSkills::Evernote::CreatingNotesInEvernote\n"
     ]
    }
   ],
   "source": [
    "for primary in loaded_json.keys():\n",
    "    for secondary in loaded_json[primary].keys():\n",
    "        for item in loaded_json[primary][secondary]:\n",
    "            print(f\"{primary}::{secondary}::{item}\")"
   ]
  }
 ],
 "metadata": {
  "kernelspec": {
   "display_name": "Python 3",
   "language": "python",
   "name": "python3"
  },
  "language_info": {
   "codemirror_mode": {
    "name": "ipython",
    "version": 3
   },
   "file_extension": ".py",
   "mimetype": "text/x-python",
   "name": "python",
   "nbconvert_exporter": "python",
   "pygments_lexer": "ipython3",
   "version": "3.11.10"
  }
 },
 "nbformat": 4,
 "nbformat_minor": 2
}
