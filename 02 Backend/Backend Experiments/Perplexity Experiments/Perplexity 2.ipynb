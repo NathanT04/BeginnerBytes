{
 "cells": [
  {
   "cell_type": "code",
   "execution_count": 27,
   "metadata": {},
   "outputs": [],
   "source": [
    "import functools\n",
    "\n",
    "import os\n",
    "import time"
   ]
  },
  {
   "cell_type": "code",
   "execution_count": 28,
   "metadata": {},
   "outputs": [],
   "source": [
    "from selenium import webdriver\n",
    "\n",
    "from selenium.webdriver.common.by import By\n",
    "# from selenium.webdriver import Keys"
   ]
  },
  {
   "cell_type": "code",
   "execution_count": 29,
   "metadata": {},
   "outputs": [],
   "source": [
    "BROWSER_EXECUTABLE_PATH = r\"C:\\Program Files\\BraveSoftware\\Brave-Browser\\Application\\brave.exe\""
   ]
  },
  {
   "cell_type": "code",
   "execution_count": 30,
   "metadata": {},
   "outputs": [],
   "source": [
    "# PERPLEXITY_URL = \"https://www.perplexity.ai/\"\n",
    "\n",
    "# Use a specialty URL for this project that includes system instructions.\n",
    "PERPLEXITY_URL = \"https://www.perplexity.ai/collections/2024-dubhacks-282mCeoqTmSMEnSqTY9qEw\""
   ]
  },
  {
   "cell_type": "code",
   "execution_count": 31,
   "metadata": {},
   "outputs": [],
   "source": [
    "# A decorator that immediately attempts a block of code up to an optionally specified number of times.\n",
    "def attempt_immediately(max_num_attempts=5, pause_between_attempt_time=0) -> bool:\n",
    "    '''\n",
    "        This decorator attempts to run code (func) for a specified number of times (max_num_attempts).\n",
    "        It will pause for a specified number of seconds (pause_between_attempt_time) in between attempts.\n",
    "    '''\n",
    "\n",
    "    # When the \"attempt_immediately\" function is called, it returns the \"decorator_attempt_immediately\" function\n",
    "    # (with the appropriate arguments) that the decorator is actually applied to.\n",
    "\n",
    "    def decorator_attempt_immediately(func):\n",
    "\n",
    "        # Provide a standard decorator wrapper to be able to use functools to preserve information\n",
    "        # about the original function.\n",
    "        @functools.wraps(func)\n",
    "        def wrapper_attempt_immediately(func):\n",
    "            current_num_attempts = 0\n",
    "            \n",
    "            while current_num_attempts < max_num_attempts:\n",
    "                try:\n",
    "                    func()\n",
    "                    # If the code runs successfully, no further actions is required.\n",
    "                    return True\n",
    "                except:\n",
    "                    # If the code fails \n",
    "                    time.sleep(pause_between_attempt_time)\n",
    "                    current_num_attempts += 1\n",
    "            \n",
    "            # Exit if the code failed to run.\n",
    "            return False\n",
    "\n",
    "        return wrapper_attempt_immediately(func)\n",
    "    \n",
    "    # Immediately execute the function and return the result.\n",
    "    return decorator_attempt_immediately"
   ]
  },
  {
   "cell_type": "code",
   "execution_count": 32,
   "metadata": {},
   "outputs": [],
   "source": [
    "# Use Brave Browser as the Chrome-based browser for this program.\n",
    "options = webdriver.ChromeOptions()\n",
    "options.binary_location = BROWSER_EXECUTABLE_PATH\n",
    "\n",
    "# Options to hide use\n",
    "options.add_argument(\"--disable-blink-features=AutomationControlled\")\n",
    "options.add_experimental_option(\"excludeSwitches\", [\"enable-automation\"])\n",
    "options.add_experimental_option(\"useAutomationExtension\", False)\n",
    "\n",
    "# Create a Desktop Webdriver\n",
    "driver = webdriver.Chrome(\n",
    "    # service=service,\n",
    "    options=options\n",
    ")\n",
    "\n",
    "# Options to Hide Driver\n",
    "driver.execute_script(\"Object.defineProperty(navigator, 'webdriver', {get: () => undefined})\")"
   ]
  },
  {
   "cell_type": "code",
   "execution_count": 33,
   "metadata": {},
   "outputs": [],
   "source": [
    "driver.get(\"https://google.com\")"
   ]
  },
  {
   "cell_type": "code",
   "execution_count": 34,
   "metadata": {},
   "outputs": [],
   "source": [
    "# To successfully login, open Perplexity in a SECOND TAB and login there. \n",
    "# Then reload Perplexity in the original tab."
   ]
  },
  {
   "cell_type": "code",
   "execution_count": 35,
   "metadata": {},
   "outputs": [
    {
     "data": {
      "text/plain": [
       "''"
      ]
     },
     "execution_count": 35,
     "metadata": {},
     "output_type": "execute_result"
    }
   ],
   "source": [
    "# Pause \n",
    "input()"
   ]
  },
  {
   "cell_type": "code",
   "execution_count": 41,
   "metadata": {},
   "outputs": [],
   "source": [
    "# @attempt_immediately(pause_between_attempt_time=3)\n",
    "def preform_request(query, image_path=None):\n",
    "\n",
    "    driver.get(PERPLEXITY_URL)\n",
    "\n",
    "    # Text Box\n",
    "    driver.find_element(By.CLASS_NAME, \"caret-superDuper\").send_keys(query)\n",
    "\n",
    "    if image_path != None:\n",
    "        driver.find_element(By.TAG_NAME, \"input\").send_keys(image_path)\n",
    "\n",
    "    # Click Submit Button\n",
    "    driver.find_element(By.CLASS_NAME, \"fa-arrow-right\").click()\n",
    "\n",
    "    time.sleep(3)\n",
    "\n",
    "    # Wait for the generation to finish by watching for the stop icon to disappear\n",
    "    @attempt_immediately()\n",
    "    def locate_plus_button():\n",
    "        while True:\n",
    "            try:\n",
    "                driver.find_element(By.CLASS_NAME, \"fa-circle-stop\")\n",
    "                time.sleep(1)\n",
    "            except:\n",
    "                return\n",
    "\n",
    "    # Locate text content\n",
    "    text_elements = None\n",
    "    @attempt_immediately()\n",
    "    def locate_completed_text():\n",
    "        nonlocal text_elements\n",
    "        text_block = driver.find_element(By.CLASS_NAME, \"prose\")\n",
    "        text_elements = text_block.find_elements(By.TAG_NAME, \"span\")\n",
    "\n",
    "        assert len(text_elements) > 2\n",
    "\n",
    "    text = \"\"\n",
    "    for element in text_elements:\n",
    "        text += \" \" + element.text\n",
    "\n",
    "    return text.strip()"
   ]
  },
  {
   "cell_type": "code",
   "execution_count": 42,
   "metadata": {},
   "outputs": [
    {
     "data": {
      "text/plain": [
       "'It is currently 04:42 AM on Sunday, October 13, 2024, in the America/Los_Angeles time zone.  [CREATE NEW SKILL: GeneralSkills::BasicComputerUse::UnderstandingTimeZonesAndCurrentTime]'"
      ]
     },
     "execution_count": 42,
     "metadata": {},
     "output_type": "execute_result"
    }
   ],
   "source": [
    "preform_request(\"What time is it?\")"
   ]
  }
 ],
 "metadata": {
  "kernelspec": {
   "display_name": "Python 3",
   "language": "python",
   "name": "python3"
  },
  "language_info": {
   "codemirror_mode": {
    "name": "ipython",
    "version": 3
   },
   "file_extension": ".py",
   "mimetype": "text/x-python",
   "name": "python",
   "nbconvert_exporter": "python",
   "pygments_lexer": "ipython3",
   "version": "3.11.10"
  }
 },
 "nbformat": 4,
 "nbformat_minor": 2
}
