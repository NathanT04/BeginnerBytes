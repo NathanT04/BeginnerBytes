{
 "cells": [
  {
   "cell_type": "code",
   "execution_count": 71,
   "metadata": {},
   "outputs": [],
   "source": [
    "import functools\n",
    "\n",
    "import os\n",
    "import time"
   ]
  },
  {
   "cell_type": "code",
   "execution_count": 72,
   "metadata": {},
   "outputs": [],
   "source": [
    "from selenium import webdriver\n",
    "\n",
    "from selenium.webdriver.common.by import By\n",
    "from selenium.webdriver import Keys\n",
    "\n",
    "# from selenium.webdriver.chrome.service import service as ChromeService"
   ]
  },
  {
   "cell_type": "code",
   "execution_count": 73,
   "metadata": {},
   "outputs": [],
   "source": [
    "BROWSER_EXECUTABLE_PATH = r\"C:\\Program Files\\BraveSoftware\\Brave-Browser\\Application\\brave.exe\""
   ]
  },
  {
   "cell_type": "code",
   "execution_count": 74,
   "metadata": {},
   "outputs": [],
   "source": [
    "PERPLEXITY_URL = \"https://www.perplexity.ai/\""
   ]
  },
  {
   "cell_type": "code",
   "execution_count": 75,
   "metadata": {},
   "outputs": [],
   "source": [
    "# A decorator that immediately attempts a block of code up to an optionally specified number of times.\n",
    "def attempt_immediately(max_num_attempts=5, pause_between_attempt_time=0) -> bool:\n",
    "    '''\n",
    "        This decorator attempts to run code (func) for a specified number of times (max_num_attempts).\n",
    "        It will pause for a specified number of seconds (pause_between_attempt_time) in between attempts.\n",
    "    '''\n",
    "\n",
    "    # When the \"attempt_immediately\" function is called, it returns the \"decorator_attempt_immediately\" function\n",
    "    # (with the appropriate arguments) that the decorator is actually applied to.\n",
    "\n",
    "    def decorator_attempt_immediately(func):\n",
    "\n",
    "        # Provide a standard decorator wrapper to be able to use functools to preserve information\n",
    "        # about the original function.\n",
    "        @functools.wraps(func)\n",
    "        def wrapper_attempt_immediately(func):\n",
    "            current_num_attempts = 0\n",
    "            \n",
    "            while current_num_attempts < max_num_attempts:\n",
    "                try:\n",
    "                    func()\n",
    "                    # If the code runs successfully, no further actions is required.\n",
    "                    return True\n",
    "                except:\n",
    "                    # If the code fails \n",
    "                    time.sleep(pause_between_attempt_time)\n",
    "                    current_num_attempts += 1\n",
    "            \n",
    "            # Exit if the code failed to run.\n",
    "            return False\n",
    "\n",
    "        return wrapper_attempt_immediately(func)\n",
    "    \n",
    "    # Immediately execute the function and return the result.\n",
    "    return decorator_attempt_immediately"
   ]
  },
  {
   "cell_type": "code",
   "execution_count": 80,
   "metadata": {},
   "outputs": [],
   "source": [
    "# Use Brave Browser as the Chrome-based browser for this program.\n",
    "options = webdriver.ChromeOptions()\n",
    "options.binary_location = BROWSER_EXECUTABLE_PATH\n",
    "\n",
    "# Options to hide use\n",
    "options.add_argument(\"--disable-blink-features=AutomationControlled\")\n",
    "options.add_experimental_option(\"excludeSwitches\", [\"enable-automation\"])\n",
    "options.add_experimental_option(\"useAutomationExtension\", False)\n",
    "\n",
    "# Create a Desktop Webdriver\n",
    "driver = webdriver.Chrome(\n",
    "    # service=service,\n",
    "    options=options\n",
    ")\n",
    "\n",
    "# Options to Hide Driver\n",
    "driver.execute_script(\"Object.defineProperty(navigator, 'webdriver', {get: () => undefined})\")"
   ]
  },
  {
   "cell_type": "code",
   "execution_count": null,
   "metadata": {},
   "outputs": [],
   "source": []
  },
  {
   "cell_type": "code",
   "execution_count": 81,
   "metadata": {},
   "outputs": [],
   "source": [
    "\n",
    "driver.get(\"https://google.com\")\n",
    "# driver.get(\"https://shopify.com\")\n",
    "# driver.get(PERPLEXITY_URL)\n",
    "\n",
    "# # Login to Perplexity\n",
    "\n",
    "# @attempt_immediately()\n",
    "# def login():\n",
    "\n",
    "#     time.sleep(30)\n",
    "\n",
    "#     # Wait for CloudFlare protection to be acknowledged.\n",
    "#     @attempt_immediately(max_num_attempts=20, pause_between_attempt_time=5)\n",
    "#     def click_login_button():\n",
    "\n",
    "#         # Locate the \"Sign in\" button from the list of elements with the \"leading-loose\" class.\n",
    "#         leading_loose_elements = driver.find_elements(By.CLASS_NAME, \"leading-loose\")\n",
    "\n",
    "#         for element in leading_loose_elements:\n",
    "#             if element.text == \"Sign in\":\n",
    "#                 element.click()\n",
    "#                 break\n",
    "\n",
    "#     driver.find_element()\n",
    "\n",
    "\n",
    "#     @attempt_immediately()\n",
    "#     def send_email():\n",
    "#         # Locate the email form from the list of elements of the \"input\" type.\n",
    "#         elements = driver.find_elements(By.TAG_NAME, \"input\")\n",
    "\n",
    "#         elements[2].send_keys(os.getenv(\"PERPLEXITY_EMAIL\"))\n",
    "\n",
    "#     # Click on the login button.\n",
    "#     driver.find_elements(By.TAG_NAME, \"button\")[20].click()\n",
    "\n",
    "#     # Click on the the manual code button\n",
    "#     driver.find_element(By.CLASS_NAME, \"text-align-center\")"
   ]
  },
  {
   "cell_type": "code",
   "execution_count": 112,
   "metadata": {},
   "outputs": [],
   "source": [
    "# @attempt_immediately(pause_between_attempt_time=3)\n",
    "def preform_request(query, image_path=None):\n",
    "\n",
    "    driver.get(PERPLEXITY_URL)\n",
    "\n",
    "    # Text Box\n",
    "    driver.find_element(By.CLASS_NAME, \"caret-superDuper\").send_keys(query)\n",
    "\n",
    "    if image_path != None:\n",
    "        driver.find_element(By.TAG_NAME, \"input\").send_keys(image_path)\n",
    "\n",
    "    # Click Submit Button\n",
    "    driver.find_elements(By.TAG_NAME, \"button\")[7].click()\n",
    "\n",
    "    time.sleep(3)\n",
    "\n",
    "    # Wait for the generation to finish by watching for the stop icon to disappear\n",
    "    @attempt_immediately()\n",
    "    def locate_plus_button():\n",
    "        while True:\n",
    "            try:\n",
    "                driver.find_element(By.CLASS_NAME, \"fa-circle-stop\")\n",
    "                time.sleep(1)\n",
    "            except:\n",
    "                print(\"Exiting!\")\n",
    "                return\n",
    "\n",
    "    # Locate text content\n",
    "    text_elements = None\n",
    "    @attempt_immediately()\n",
    "    def locate_completed_text():\n",
    "        nonlocal text_elements\n",
    "        text_block = driver.find_element(By.CLASS_NAME, \"prose\")\n",
    "        text_elements = text_block.find_elements(By.TAG_NAME, \"span\")\n",
    "\n",
    "        assert len(text_elements) > 2\n",
    "\n",
    "    text = \"\"\n",
    "    for element in text_elements:\n",
    "        text += \" \" + element.text\n",
    "\n",
    "    return text"
   ]
  },
  {
   "cell_type": "code",
   "execution_count": 83,
   "metadata": {},
   "outputs": [],
   "source": [
    "# a = driver.find_element(By.CLASS_NAME, \"caret-superDuper\")\n",
    "# # b = a.find_element(By.TAG_NAME, \"textarea\")"
   ]
  },
  {
   "cell_type": "code",
   "execution_count": 84,
   "metadata": {},
   "outputs": [],
   "source": [
    "# a.send_keys(\"ABC\")"
   ]
  },
  {
   "cell_type": "code",
   "execution_count": 99,
   "metadata": {},
   "outputs": [],
   "source": [
    "# b.text"
   ]
  },
  {
   "cell_type": "code",
   "execution_count": 113,
   "metadata": {},
   "outputs": [
    {
     "name": "stdout",
     "output_type": "stream",
     "text": [
      "Exiting!\n"
     ]
    },
    {
     "data": {
      "text/plain": [
       "'The current time is 04:15 AM (PDT) on Sunday, October 13, 2024.'"
      ]
     },
     "execution_count": 113,
     "metadata": {},
     "output_type": "execute_result"
    }
   ],
   "source": [
    "preform_request(\"What time is it?\")"
   ]
  },
  {
   "cell_type": "code",
   "execution_count": 114,
   "metadata": {},
   "outputs": [
    {
     "name": "stdout",
     "output_type": "stream",
     "text": [
      "Exiting!\n"
     ]
    },
    {
     "data": {
      "text/plain": [
       "'Calculus works by providing a mathematical framework for understanding and analyzing continuous change. It does this through two main branches: differential calculus and integral calculus.Differential calculus focuses on the study of rates of change and slopes of curves. It helps in understanding how functions change as their input changes. This is achieved through the concept of derivatives, which measure the rate of change of a function at a given point224\\n.4\\n.4Integral calculus, on the other hand, deals with the accumulation of quantities. It is used to find areas under curves, volumes of solids, and other quantities that can be represented as the sum of many small parts. This is done through the process of integration, which is essentially the reverse of differentiation224\\n.4\\n.4The fundamental theorem of calculus establishes a deep connection between differential and integral calculus. It shows that differentiation and integration are inverse processes, meaning that the derivative of an integral of a function is the original function itself. This theorem allows for the evaluation of definite integrals without needing to use Riemann sums or calculate areas directly224\\n.4\\n.4Calculus works because it is based on the concept of limits, which allows for the approximation of continuous functions by discrete values. By studying how these approximations behave as the discrete values get closer and closer together, calculus can accurately describe and predict the behavior of continuous systems445\\n.5\\n.5Calculus has numerous practical applications in fields such as physics, engineering, economics, and computer science. It is used to model and analyze systems that undergo change, such as the motion of objects, the growth of populations, and the behavior of electrical circuits. By providing a mathematical framework for understanding these changes, calculus enables us to make predictions and control these systems114\\n.4\\n.4Calculus was developed independently by Isaac Newton and Gottfried Wilhelm Leibniz in the late 17th century. Their work laid the foundation for modern calculus, which has since been refined and expanded upon by many mathematicians. The development of calculus marked a significant turning point in the history of mathematics and science, enabling the precise modeling and analysis of complex systems4\\n.4\\n.4In summary, calculus works by providing a mathematical framework for understanding and analyzing continuous change through the use of limits, derivatives, and integrals. Its practical applications are vast and have had a profound impact on many fields of study.'"
      ]
     },
     "execution_count": 114,
     "metadata": {},
     "output_type": "execute_result"
    }
   ],
   "source": [
    "preform_request(\"Why does Calculus work?\")"
   ]
  }
 ],
 "metadata": {
  "kernelspec": {
   "display_name": "Python 3",
   "language": "python",
   "name": "python3"
  },
  "language_info": {
   "codemirror_mode": {
    "name": "ipython",
    "version": 3
   },
   "file_extension": ".py",
   "mimetype": "text/x-python",
   "name": "python",
   "nbconvert_exporter": "python",
   "pygments_lexer": "ipython3",
   "version": "3.11.10"
  }
 },
 "nbformat": 4,
 "nbformat_minor": 2
}
